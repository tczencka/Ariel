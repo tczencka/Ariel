{
 "cells": [
  {
   "cell_type": "markdown",
   "metadata": {},
   "source": [
    "# **Project:** Ariel"
   ]
  },
  {
   "cell_type": "markdown",
   "metadata": {},
   "source": [
    "# **Step:** Compiler"
   ]
  },
  {
   "cell_type": "markdown",
   "metadata": {},
   "source": [
    "**Goal:** Create a tool to help amateur screenwriters better identify their voice and improve (sell) their screenplays.\n",
    "\n",
    "**Process:** Using NLP, create an engine that takes a pilot screenplay and returns \"sister scripts.\" Through these scripts, writers can identify similarities in tone, topic, and target distribution channels for networks of \"best fit.\" \n",
    "\n",
    "**Code and Concepty by:** Tyler Zencka"
   ]
  },
  {
   "cell_type": "markdown",
   "metadata": {},
   "source": [
    "# Imports"
   ]
  },
  {
   "cell_type": "code",
   "execution_count": 3,
   "metadata": {},
   "outputs": [],
   "source": [
    "import pandas as pd\n",
    "import pickle\n",
    "import numpy as np\n",
    "import re\n",
    "import string\n",
    "import json\n",
    "import os\n",
    "import io\n",
    "\n",
    "# Parsing\n",
    "import sys\n",
    "from pdfminer.pdfinterp import PDFResourceManager, PDFPageInterpreter\n",
    "from pdfminer.converter import PDFPageAggregator\n",
    "from pdfminer.layout import LTTextBoxHorizontal\n",
    "from pdfminer.converter import HTMLConverter,TextConverter,XMLConverter\n",
    "from pdfminer.layout import LAParams\n",
    "from pdfminer.pdfpage import PDFPage\n",
    "\n",
    "# Mapping/Display\n",
    "%matplotlib inline\n",
    "from matplotlib import pyplot as plt\n",
    "pd.set_option('display.max_columns', 500)\n",
    "pd.set_option('display.max_rows', 500)\n",
    "pd.set_option('display.float_format', lambda x: '%.3f' % x)\n",
    "\n",
    "# logging for gensim (set to INFO)\n",
    "import logging\n",
    "logging.basicConfig(format='%(asctime)s : %(levelname)s : %(message)s', level=logging.INFO)\n",
    "from gensim import corpora, models, similarities, matutils"
   ]
  },
  {
   "cell_type": "markdown",
   "metadata": {},
   "source": [
    "# Load the parser module"
   ]
  },
  {
   "cell_type": "markdown",
   "metadata": {},
   "source": [
    "Before loading the modules, which can find in the project GitHub, you may want to check your sytem path."
   ]
  },
  {
   "cell_type": "code",
   "execution_count": null,
   "metadata": {},
   "outputs": [],
   "source": [
    "# Double check what system your notebook is running\n",
    "sys.executable"
   ]
  },
  {
   "cell_type": "code",
   "execution_count": null,
   "metadata": {},
   "outputs": [],
   "source": [
    "# Double check where it's pulling imports from\n",
    "sys.path"
   ]
  },
  {
   "cell_type": "code",
   "execution_count": null,
   "metadata": {},
   "outputs": [],
   "source": [
    "import parser.parse_pdf as p"
   ]
  },
  {
   "cell_type": "markdown",
   "metadata": {},
   "source": [
    "# Parsing PDFs"
   ]
  },
  {
   "cell_type": "markdown",
   "metadata": {},
   "source": [
    "Most scripts online can be found in pdf form, so our first task is to build an engine that can take a *PDF Script* as an input and turn it into text."
   ]
  },
  {
   "cell_type": "markdown",
   "metadata": {},
   "source": [
    "## Show Lists"
   ]
  },
  {
   "cell_type": "markdown",
   "metadata": {},
   "source": [
    "After scraping screenplay PDFs from the internet, store them in a folder on your local drive.\n",
    "Include all titles in a list here, which we will put through our parser to mass parse collections of scripts.\n",
    "\n",
    "Note: These *titles_list* will run through the compiler one at a time. So our steps are:\n",
    "1. Run BETA through to the end of the Notebook.\n",
    "2. When above runs well, run BATCH1 through end of the Notebook.\n",
    "3. Run BATCH2 through end of the Notebook.\n",
    "4. Run BATCH3 through end of the Notebook.\n",
    "5. Scrape for more screenplay PDFs online and create news titles_lists.\n",
    "\n",
    "Since these are pulling PDFs from my local drive, you'll want to download the collection from GitHub."
   ]
  },
  {
   "cell_type": "markdown",
   "metadata": {},
   "source": [
    "### ***BETA***"
   ]
  },
  {
   "cell_type": "code",
   "execution_count": null,
   "metadata": {},
   "outputs": [],
   "source": [
    "# This is our BETA group, a small collection to test out functions in a computationally inexpensive way.\n",
    "\n",
    "titles_list = ['Beauty_and_the_Beast_1x01_-_Pilot_(Steinberg).pdf',\n",
    "'Happy!_1x01_-_Pilot.pdf',\n",
    "'Riverdale_1x01_-_The_Rivers_Edge.pdf',\n",
    "'Sweet_Vicious_1x01_-_Pilot.pdf',\n",
    "'The_Secret_Lives_Of_Husbands_And_Wives_1x01_-_Pilot.pdf',\n",
    "'Warriors_1x01_-_Pilot.pdf']"
   ]
  },
  {
   "cell_type": "markdown",
   "metadata": {},
   "source": [
    "### ***BATCH1***"
   ]
  },
  {
   "cell_type": "code",
   "execution_count": null,
   "metadata": {},
   "outputs": [],
   "source": [
    "# This is our first larger test sample of inputs to get an MVP version of our product.\n",
    "\n",
    "titles_list = ['Brockmire_1x01_-_Pilot.pdf',\n",
    "'Brooklyn_Nine-Nine_1x01_-_Pilot_(Mar_19_2013).pdf',\n",
    "'Californication_1x01_-_Pilot.pdf',\n",
    "'Casual_1x01_-_Pilot.pdf',\n",
    "'Catastrophe_1x01_-_Pilot.pdf',\n",
    "'Catch-22_1x01_-_Pilot.pdf',\n",
    "'Champaign_ILL_1x01_-_Pilot.pdf',\n",
    "'Community_1x01_-_Pilot.pdf',\n",
    "'Cougar_Town_1x01_-_Pilot.pdf',\n",
    "'Counterpart_1x01_-_Pilot.pdf',\n",
    "'Crazy_Ex-Girlfriend_1x01_-_Pilot.pdf',\n",
    "'Dark_Skies_1x01_-_Awakening.pdf',\n",
    "'Defenders_1x01_-_Pilot.pdf',\n",
    "'Dexter_1x01_-_Pilot.pdf',\n",
    "'Dirk_Gently_1x01_-_Pilot.pdf',\n",
    "'Doctor_Who_001_-_An_Unearthly_Child.pdf',\n",
    "'Drop_Dead_Diva_1x01_-_Pilot.pdf',\n",
    "'Empire_1x01_-_Pilot.pdf',\n",
    "'Eleventh_Hour_1x01_-_Man_Without_a_Shadow.pdf',\n",
    "'Emerald_City_1x01_-_Pilot.pdf',\n",
    "'Emily_Owens,_MD_1x01_-_Pilot.pdf',\n",
    "'Empire_State_1x01_-_Pilot.pdf',\n",
    "'Episodes_1x01_-_Pilot.pdf',\n",
    "'Escape_at_Dannemora_1x01_-_Chapter_One.pdf',\n",
    "'Everything_Sucks_1x01_-_Pilot.pdf',\n",
    "'Everythings_Gonna_Be_OK_1x01_-_Pilot.pdf',\n",
    "'Everwood_1x01_-_Pilot.pdf',\n",
    "'Exile_ep1.pdf',\n",
    "'Fargo_1x01_-_Pilot.pdf',\n",
    "'Fear_The_Walking_Dead_1x01_-_Pilot.pdf',\n",
    "'Football_Wives_1x01_-_Pilot.pdf',\n",
    "'Franklin_&_Bash_1x01_-_Bro-Bono.pdf',\n",
    "'Future_Man_1x01_-_Pilot.PDF',\n",
    "'Gilmore_Girls_1x01_-_Pilot.pdf',\n",
    "'Godless.pdf',\n",
    "'Gossip_Girl_1x01_-Pilot.pdf',\n",
    "'Gotham_1x01_-_Pilot.pdf',\n",
    "'Grace_and_Frankie_1x01_-_The_End.pdf',\n",
    "'Great_News_1x01_-_Pilot.pdf',\n",
    "'Halt_&_Catch_Fire_1x01_-_Breaking_Big_Blue.pdf',\n",
    "'Happy_Valley_1x01.pdf',\n",
    "'Highston_1x01_-_Pilot.pdf',\n",
    "'How_To_Get_Away_With_Murder_1x01_-_Pilot.pdf',\n",
    "'Humans_1x01_-_Pilot.pdf',\n",
    "'iZombie_1x01_-_Pilot.pdf',\n",
    "'Jack_Ryan_1x01_-_Pilot.pdf',\n",
    "'Jane_the_Virgin_1x01_-_Pilot.pdf',\n",
    "'Jericho_1x01_-_Pilot.pdf',\n",
    "'Jon_Lovitz_Show_1x01_-_Pilot.pdf',\n",
    "'Justified_1x01_-_Pilot.pdf',\n",
    "'Last_Man_on_Earth_1x01_-_Pilot_(As_Broadcast).pdf',\n",
    "'Life_In_Pieces_1x01_-_Pilot.pdf',\n",
    "'Life_on_Mars_1x01.pdf',\n",
    "'Locke_And_Key_1x01_-_Ghost_Key.pdf',\n",
    "'Longmire_1x01_-_Pilot.pdf',\n",
    "'Lost_1x01_-_Pilot.pdf',\n",
    "'Magicians_1x01_-_Unauthorized_Magic.pdf',\n",
    "'Man_Seeking_Woman_1x01_-_Pilot.pdf',\n",
    "'Masters_Of_Sex_1x01_-_Pilot.pdf',\n",
    "'Mozart_in_the_Jungle_1x01_-_Pilot.pdf',\n",
    "'Narcos_1x01_-_Descenso.pdf',\n",
    "'NCIS_6x22_-_Legend_pt1.pdf',\n",
    "'One_Mississippi_1x01_-_Pilot.pdf',\n",
    "'Ozark_1x01_-_Pilot.pdf',\n",
    "'Party_Down_1x01_-_Pilot.pdf',\n",
    "'Peaky_Blinders_1x01.pdf',\n",
    "'Political_Animals_1x01_-_Pilot.pdf',\n",
    "'Pretty_Little_Liars_1x01_-_Pilot.pdf',\n",
    "'Prison_Break_2016_1x01_-_Pilot.pdf',\n",
    "'Ray_Donovan_1x01_-_Pilot.pdf',\n",
    "'Revolution_1x01_-_Pilot.pdf',\n",
    "'Rizzoli_and_Isles_1x01_-_Pilot.pdf',\n",
    "'Royal_Pains_1x01_-_Pilot.pdf',\n",
    "'Ryan_Hansen_Solves_Crimes_On_Television_1x01_-_Pilot.pdf',\n",
    "'Samantha_Who_1x01_-_Pilot.pdf',\n",
    "'Santa_Clarita_Diet_1x01_-_Pilot.pdf',\n",
    "'Smallville_1x01_-_Pilot.pdf',\n",
    "'Sons_of_Anarchy_1x01_-_Pilot.pdf',\n",
    "'Spellbound_1x01_-_Pilot.pdf',\n",
    "'Star_Trek_-_The_Next_Generation_1x01-102_-_Encounter_at_Farpoint.pdf',\n",
    "'Stranger_Things_1x01_-_Pilot.pdf',\n",
    "'Surviving_Jack_1x01_-_Pilot.pdf',\n",
    "'Taboo_1x01_-_Shovels_and_Keys.pdf',\n",
    "'The_Americans_1x01_-_Pilot.pdf',\n",
    "'The_Big_Bang_Theory_1x01_-_Pilot.pdf',\n",
    "'The_Blacklist_1x01_-_Pilot.pdf',\n",
    "'The_Chilling_Adventures_Of_Sabrina_1x01_-_October_Country.pdf',\n",
    "'The_Good_Wife_1x01_-_Pilot.pdf',\n",
    "'The_Killing_1x01_-_Pilot.pdf',\n",
    "'The_Last_Ship_1x01_-_Pilot.pdf',\n",
    "'The_Real_ONeils_1x01_-_Pilot.pdf',\n",
    "'The_Sinner_1x01_-_Pilot.pdf',\n",
    "'The_Strain_1x01_-_Night_Zero.pdf',\n",
    "'Tyrant_1x01_-_Pilot.pdf',\n",
    "'Unbreakable_Kimmy_Schmidt_1x01_-_Pilot.pdf',\n",
    "'Vampire_Diaries_1x01_-_Pilot.pdf',\n",
    "'Wayward_Pines_1x01_-_Pilot.pdf',\n",
    "'Witches_of_East_End_1x01_-_Pilot.pdf',\n",
    "'Wrecked_1x01_-_Pilot.pdf',\n",
    "'Yellowstone_1x01_-_Pilot.pdf',]"
   ]
  },
  {
   "cell_type": "markdown",
   "metadata": {},
   "source": [
    "### ***BATCH2***"
   ]
  },
  {
   "cell_type": "code",
   "execution_count": null,
   "metadata": {},
   "outputs": [],
   "source": [
    "# This is our second larger test sample of inputs to get an MVP version of our product.\n",
    "\n",
    "titles_list = ['Castle_1x01_-_Chapter_One.pdf',\n",
    "'Charlies_Angels_1x01_-_Pilot.pdf',\n",
    "'Charmed_1x01_-_Pilot.pdf',\n",
    "'Cheerleader_Death_Squad_1x01_-_Pilot.pdf',\n",
    "'Chuck_1x01_-_Pilot.pdf',\n",
    "'Constantine_1x01_-_Pilot.pdf',\n",
    "'Criminal_Minds_Suspect_Behavior_1x01_-_Pilot.pdf',\n",
    "'Cruel_Intentions_1x01_-_Pilot.pdf',\n",
    "'Dallas_1x01_-_Changing_Of_The_Guard.pdf',\n",
    "'Dark_Matter_1x01.pdf',\n",
    "'Designated_Survivor_1x01_-_Pilot.pdf',\n",
    "'Dietland_1x01_-_Pilot.pdf',\n",
    "'Dirt_1x01_-_Pilot.pdf',\n",
    "'Dirty_Sexy_Money_(aka_The_Darlings)_1x01_Pilot.pdf',\n",
    "'Divorce_-_A_Love_Story_1x01_-_Pilot.pdf',\n",
    "'Dr._Ken_1x01_-_Pilot.pdf',\n",
    "'Feud_1x01_-_Pilot.pdf',\n",
    "'Flashpoint_1x01.pdf',\n",
    "'Friends_With_Benefits_1x01_-_Pilot.pdf',\n",
    "'Gaffigan_1x01_-_Pilot.pdf',\n",
    "'Ghosted_1x01_-_Pilot.pdf',\n",
    "'Girlboss_1x01_-_Pilot.pdf',\n",
    "'Girlfriends_Guide_To_Divorce_1x01_-_Pilot.pdf',\n",
    "'Glow_1x01_-_Pilot.pdf',\n",
    "'Goliath_1x01_-_Pilot.pdf',\n",
    "'Good_Girls_1x01_-_Pilot.pdf',\n",
    "'Grandfathered_1x01_-_Pilot.pdf',\n",
    "'Hand_Of_God_1x01_-_Pilot.pdf',\n",
    "'Hannibal_1x01_-_Pilot.pdf',\n",
    "'Happy_Endings_1x01_-_Pilot.pdf',\n",
    "'Happyish_1x01_-_Starring_Samuel_Beckett,_Albert_Camus_and_Alois_Alzheimer.pdf',\n",
    "'Harlots_1x01_-_Pilot.pdf',\n",
    "'Hart_Of_Dixie_1x01_-_Pilot.pdf',\n",
    "'Hell_on_Wheels_1x01_-_Pilot.pdf',\n",
    "'Hot_In_Cleveland_1x01_-_Dead_Is_The_New_90.pdf',\n",
    "'How_I_Met_Your_Dad_1x01_-_Pilot.pdf',\n",
    "'I_Love_Dick_1x01_-_Pilot.pdf',\n",
    "'Impastor_1x01_-_Pilot.pdf',\n",
    "'Jean-Claude_Van_Johnson_1x01_-_Pilot.pdf',\n",
    "'Kevin_(Probably)_Saves_the_World_1x01_-_Pilot.pdf',\n",
    "'Killing_Eve_1x01_-_Pilot.pdf',\n",
    "'Killjoys_1x01_-_Bangarang.pdf',\n",
    "'Kingdom_1x01_-_Pilot.pdf',\n",
    "'Lady_Dynamite_1x01_-_Pilot.pdf',\n",
    "'Last_Man_Standing_1x01_-_Pilot.pdf',\n",
    "'Limitless_1x01_-_Pilot.pdf',\n",
    "'Line_of_Duty_Episode_1.pdf',\n",
    "'Living_Biblically_1x01_-_Pilot.pdf',\n",
    "'Love_1x01_-_Pilot.pdf',\n",
    "'Lucifer_1x01_-_Pilot.pdf',\n",
    "'Luther_1x01_-_Pilot.pdf',\n",
    "'Madam_Secretary_1x01_-_Pilot.pdf',\n",
    "'MadMenPilot.pdf',\n",
    "'Manhunt_-_Unabomber_1x01_-_Pilot.pdf',\n",
    "'Melissa_and_Joey_1x01_-_Pilot.pdf',\n",
    "'Merlin_1x01_-_Pilot.pdf',\n",
    "'Merry_Happy_Whatever_1x01_-_December_21_-_Welcome_Matt.pdf',\n",
    "'Mike_Berbiglias_Secret_Public_Journal_1x01.pdf',\n",
    "'Minority_Report_1x01_-_Pilot.pdf',\n",
    "'Mixology_1x01_-_Pilot.pdf',\n",
    "'Mob_City_1x01_-_Pilot.pdf',\n",
    "'Mr_Robinson_1x01_-_Pilot.pdf',\n",
    "'Mr_Robot_1x01_-_Pilot.pdf',\n",
    "'Mr._Sunshine_1x01_-_Pilot.pdf',\n",
    "'Mulaney_1x01_-_Pilot.pdf',\n",
    "'New_Girl_1x01_-_Pilot.pdf',\n",
    "'No_Ordinary_Family_1x01_-_Pilot.pdf',\n",
    "'Once_Upon_A_Time_1x01_-_Pilot.pdf',\n",
    "'One_Big_Happy_1x01_-_Pilot.pdf',\n",
    "'OrangeIsTheNewBlack.pdf',\n",
    "'Orphan_Black_1x01_-_Pilot.pdf',\n",
    "'Orville_1x01_-_Pilot.pdf',\n",
    "'Our_Town_1x01_-_Pilot.pdf',\n",
    "'Outlander_1x01_-_Sassenach.pdf',\n",
    "'Parenthood_1x01_-_Pilot.pdf',\n",
    "'Pen15_1x01_-_First_Day.pdf',\n",
    "'Phys_Ed_1x01_-_Pilot.pdf',\n",
    "'Pitch_1x01_-_Pilot.pdf',\n",
    "'Pose_1x01_-_A_House_is_Not_a_Home.PDF',\n",
    "'Pushing_Daisies_1x01_-_Pilot.pdf',\n",
    "'Quantico_1x01_-_Pilot.pdf',\n",
    "'Rectify_1x01_-_Pilot_1x01.pdf',\n",
    "'Red_Band_Society_1x01_-_Pilot.pdf',\n",
    "'Red_Oaks_1x01_-_Pilot.pdf',\n",
    "'Rocky_Horror_Picture_Show_Lets_Do_The_Timewarp_Again.pdf',\n",
    "'Russian_Doll_1x01_-_Nothing_in_this_World_is_Easy.pdf',\n",
    "'Scandal_1x01_-_Pilot.pdf',\n",
    "'Schooled_1x01_-_Pilot.pdf',\n",
    "'Sean_Saves_The_World_1x01_-_Pilot.pdf',\n",
    "'Selfie_1x01_-_Pilot.pdf',\n",
    "'Shameless_1x01_-_Pilot.pdf',\n",
    "'Shit_My_Dad_Says_1x01_-_Pilot.pdf',\n",
    "'Shooter_1x01_-_Pilot.pdf',\n",
    "'Sleepy_Hollow_1x01_-_Come_and_See.pdf',\n",
    "'Sneaky_Pete_1x01_-_Pilot.pdf',\n",
    "'Son_of_Zorn_1x01_-_Pilot.pdf',\n",
    "'Sons_Of_Tucson_1x01_-_Pilot.pdf',\n",
    "'Sorry_for_Your_Loss_1x01_-_Pilot.pdf',\n",
    "'Southland_1x01_-_Pilot.pdf',\n",
    "'Stan_Against_Evil_1x01_-_Eccles_and_the_172.pdf',\n",
    "'Star_Crossed_1x01_-_Pilot.pdf',\n",
    "'Suits_1x01_-_Pilot.pdf',\n",
    "'Terriers_1x01_-_Pilot.pdf',\n",
    "'The_100_1x01_-_Pilot.pdf',\n",
    "'The_Affair_1x01_-_Pilot.pdf',\n",
    "'The_Boys_1x01_-_The_Name_of_the_Game.pdf',\n",
    "'The_C_Word_1x01_-_Pilot.pdf',\n",
    "'The_Client_List_1x01_-_Pilot.pdf',\n",
    "'The_Comedians_1x01_-_Pilot.pdf',\n",
    "'The_Crown_1x01_-_Pilot.pdf',\n",
    "'The_Cure_1x01_-_Pilot.pdf',\n",
    "'The_Expanse_1x01_-_Pilot.pdf',\n",
    "'The_Following_1x01_-_Pilot.pdf',\n",
    "'The_Fosters_1x01_-_Pilot.pdf',\n",
    "'The_Glades_1x01_-_Pilot.pdf',\n",
    "'The_Good_Doctor_1x01_-_Pilot.pdf',\n",
    "'The_Handmaids_Tale.pdf',\n",
    "'The_Hatfields_and_Mccoys_1x01_-_Pilot.pdf',\n",
    "'The_Knick_1x01_-_For_Headaches_and_Exhaustion.pdf',\n",
    "'The_Last_O.G_1x01_-_Pilot.pdf',\n",
    "'The_Librarians_1x01_-_And_The_Crown_of_King_Arthur.pdf',\n",
    "'The_Lizzie_Borden_Chronicles_1x01.pdf',\n",
    "'The_Lost_Girls_1x01_-_Pilot.pdf',\n",
    "'The_Man_in_the_High_Castle_1x01_-_Pilot.pdf',\n",
    "'The_Marvelous_Mrs_Maisel_1x01_-_Pilot.pdf',\n",
    "'The_Mick_1x01_-_Pilot.pdf',\n",
    "'The_Middle_1x01_-_Pilot.pdf',\n",
    "'The_Millers_1x01_-_Pilot.pdf',\n",
    "'The_Mindy_Project_1x01_-_Pilot.pdf',\n",
    "'The_Mist_1x01_-_Pilot.pdf',\n",
    "'The_Mob_Doctor_1x01_-_Pilot.pdf',\n",
    "'The_Mysteries_Of_Laura_1x01_-_Pilot.pdf',\n",
    "'The_Night_Manager_1x01.pdf',\n",
    "'The_OA_1x01_-_Pilot.pdf',\n",
    "'The_Odd_Couple_1x01_-_Pilot.pdf',\n",
    "'The_Resident_1x01_-_Pilot.pdf',\n",
    "'The_Royals_1x01_-_Pilot.pdf',\n",
    "'The_Slap_1x01_-_Hector.pdf',\n",
    "'The_Terror_1x01_-_Go_For_Broke.pdf',\n",
    "'The_Tick_1x01_-_Pilot_(2000).pdf',\n",
    "'The_Tomorrow_People_1x01_-_Pilot.pdf',\n",
    "'The_Tower_1x01.pdf',\n",
    "'The_Vikings_1x01_Pilot.pdf',\n",
    "'The_Watch__1x01_-_Pilot.pdf',\n",
    "'ThisIsUs.pdf',\n",
    "'Transparent_1x01_-_Pilot.pdf',\n",
    "'Travellers_1x01_-_Pilot.pdf',\n",
    "'Turn_1x01_-_Pilot.pdf',\n",
    "'Tut_1x01_-_Choice.pdf',\n",
    "'Uncle_Buck_1x01_-_Pilot.pdf',\n",
    "'Underemployed_1x01_-_Pilot.pdf',\n",
    "'United_States_of_Tara,_The_1x01_-_Pilot.pdf',\n",
    "'UnReal_1x01_-_Return.pdf',\n",
    "'Up_All_Night_1x01_-_Pilot.pdf',\n",
    "'We_Are_Men_1x01_-_Pilot.pdf',\n",
    "'Weekends_at_Bellevue_1x01_-_Pilot.pdf',\n",
    "'White_Famous_1x01_-_Pilot.pdf',\n",
    "'Whitney_1x01_-_Pilot.pdf',\n",
    "'Workaholics_1x01_-_Piss_&_S__t.pdf',\n",
    "'You_Me_and_the_Apocalypse_1x01_-_Pilot.pdf',\n",
    "'Young_Sheldon_1x01_-_Pilot.pdf',\n",
    "'Youre_the_Worst_1x01_-_Pilot.pdf']"
   ]
  },
  {
   "cell_type": "markdown",
   "metadata": {},
   "source": [
    "### **BATCH3**"
   ]
  },
  {
   "cell_type": "code",
   "execution_count": null,
   "metadata": {},
   "outputs": [],
   "source": [
    "# This is our 3rd large batch of scripts.\n",
    "\n",
    "titles_list = ['Chambers_1x01_-_Into_the_Void.pdf',\n",
    "'All_Rise_1x01_-_Pilot.pdf',\n",
    "'American_Princess_1x01_-_Pilot-1.pdf',\n",
    "'Awkwafina_1x01_-_Pilot.pdf',\n",
    "'Blood__Treasure_1x01_-_The_Curse_of_Cleopatra.pdf',\n",
    "'Bluff_City_Law_1x01_-_Pilot.pdf',\n",
    "'Briarpatch_1x01_-_Breadknife_Weather.pdf',\n",
    "'Carnival_Row_1x01_-_Pilot.pdf',\n",
    "'Catch-22_1x01_-_Pilot.pdf',\n",
    "'Chernobyl_Episode-11_23_45.pdf',\n",
    "'City_On_A_Hill_1x01_-_The_Night_Flynn_Sent_the_Cops_on_the_Ice.pdf',\n",
    "'Defending_Jacob_1x01_-_Pilot.pdf',\n",
    "'Deputy_1x01_-_Graduation_Day.pdf',\n",
    "'Devs_1x01_-_Pilot.pdf',\n",
    "'Dispatches_From_Elsewhere_1x01_-_Peter.pdf',\n",
    "'Dollface_1x01_-_Pilot.pdf',\n",
    "'Emergence_1x01_-_Pilot.pdf',\n",
    "'Escape_at_Dannemora_1x01_-_Chapter_One.pdf',\n",
    "'EUPHORIA-PILOT.pdf',\n",
    "'Everythings_Gonna_Be_OK_1x01_-_Pilot.pdf',\n",
    "'Evil_1x01_-_Pilot.pdf',\n",
    "'First_Wives_Club_1x01_-_Pilot.pdf',\n",
    "'Freaks_And_Geeks_1x01_-_Pilot-1.pdf',\n",
    "'good-omens-101-in-the-beginning-2019.pdf',\n",
    "'Grand_Hotel_1x01_-_Pilot.pdf',\n",
    "'Hot_Zone_1x01_-_053.pdf',\n",
    "'I_Am_the_Night_1x01_-_Pilot.pdf',\n",
    "'In_Between_Lives_1x01_-_Pilot.pdf',\n",
    "'In_The_Dark_1x01_-_Pilot.pdf',\n",
    "'Looking_For_Alaska_1x01_-_Famous_Last_Words.pdf',\n",
    "'Miracle_Workers_1x01_-_Pilot.pdf',\n",
    "'Nancy_1x01_-_In_Dreams_Begin_Responsibility.pdf',\n",
    "'Never_Have_I_Ever_1x01_-_Pilot.pdf',\n",
    "'NOS4A2_1x01_-_The_Shorter_Way.pdf',\n",
    "'On_Becoming_A_God_In_Central_Florida_1x01_-_Pilot.pdf',\n",
    "'Paradise_Lost_1x01_-_Pilot.pdf',\n",
    "'Perfect_Harmony_1x01_-_Hallelujah.pdf',\n",
    "'Pretty_Little_Liars_-_The_Perfectionists_1x01_-_Pilot.pdf',\n",
    "'Prodigal_Son_1x01_-_Pilot.pdf',\n",
    "'Project_Blue_Book_1x01_-_Pilot.pdf',\n",
    "'Proven_Innocent_1x01_-_Pilot.pdf',\n",
    "'Red_Line_1x01_-_Pilot.pdf',\n",
    "'Roswell_New_Mexico_1x01_-_Pilot.pdf',\n",
    "'Russian_Doll_1x01_-_Pilot.pdf',\n",
    "'Tales_from_the_Loop_1x01_-_Loop.pdf',\n",
    "'The_Boys_1x01_-_The_Name_of_the_Game.pdf',\n",
    "'The_Enemy_Within_1x01_-_Pilot.pdf',\n",
    "'The_Passage_1x01_-_Pilot.pdf',\n",
    "'The_Rook_1x01_-_Pilot.pdf',\n",
    "'The_Umbrella_Academy_1x01_-_We_Only_See_Each_Other_at_Weddings_and_Funerals.pdf',\n",
    "'The_Unicorn_1x01_-_Pilot.pdf',\n",
    "'The_Village_1x01_-_Pilot.pdf',\n",
    "'Too_Old_to_Die_Young_1x01_-_Pilot.pdf',\n",
    "'Twin_Peaks_1x01_-_Traces_to_Nowhere.pdf',\n",
    "'Unbelievable_Story_Of_Rape_1x01_-_Pilot.pdf',\n",
    "'Uninsured_1x01_-_Pilot.pdf',\n",
    "'Unt_Hank_Steinberg_1x01_-_Pilot.pdf',\n",
    "'Upload_1x01_-_Pilot.pdf',\n",
    "'Whiskey_Cavalier_1x01_-_Pilot.pdf',\n",
    "'Why_Women_Kill_1x01_-_Pilot.pdf',\n",
    "'Zoeys_Extraordinary_Playlist_1x01_-_Pilot.pdf']"
   ]
  },
  {
   "cell_type": "markdown",
   "metadata": {},
   "source": [
    "## Compiler"
   ]
  },
  {
   "cell_type": "markdown",
   "metadata": {},
   "source": [
    "**Step:** This module is contained in the GitHub Project files.\n",
    "\n",
    "**Process:** This Compiler turns PDFs into text and compiles them for further parsing.\n",
    "\n",
    "*Note:* Depending on how many scripts, you're compiling, this may take some time. 100 scrips = ~10 min."
   ]
  },
  {
   "cell_type": "code",
   "execution_count": null,
   "metadata": {},
   "outputs": [],
   "source": [
    "import parser.parse_pdf as p\n",
    "\n",
    "screenplays = p.pathfinder(titles_list)"
   ]
  },
  {
   "cell_type": "code",
   "execution_count": null,
   "metadata": {},
   "outputs": [],
   "source": [
    "backup = screenplays"
   ]
  },
  {
   "cell_type": "markdown",
   "metadata": {},
   "source": [
    "## Cleaning"
   ]
  },
  {
   "cell_type": "markdown",
   "metadata": {},
   "source": [
    "Because screenplays have so many different ways of being formatted, there may be further cleaning required to make sure each entry in the dictionary matches a basic format.\n",
    "\n",
    "The hashtaged items below are cleaning that can be performed on the exact titles above. For new lists of titles that you find on your own, you may need to do additional cleaning."
   ]
  },
  {
   "cell_type": "markdown",
   "metadata": {},
   "source": [
    "### TEST (cleaning)"
   ]
  },
  {
   "cell_type": "code",
   "execution_count": null,
   "metadata": {},
   "outputs": [],
   "source": [
    "# # WARRIORS\n",
    "del screenplays[5][:1]\n",
    "del screenplays[5][5:14]\n",
    "del screenplays[5][15:33]\n",
    "del screenplays[5][0]\n",
    "\n",
    "# # THE SECRET LIVES OF HUSBANDS AND WIVES\n",
    "del screenplays[4][:5]\n",
    "del screenplays[4][9:20]\n",
    "\n",
    "# # LITTLE DARLINS\n",
    "del screenplays[3][:1]\n",
    "screenplays[3].insert(0, \"LITTLE DARLINGS\")\n",
    "\n",
    "# RIVERDALE\n",
    "del screenplays[2][:3]\n",
    "del screenplays[2][7:10]\n",
    "screenplays[2].insert(0, \"RIVERDALE\")\n",
    "del screenplays[2][5:7]\n",
    "del screenplays[2][5]\n",
    "screenplays[2].insert(5, \"ACT ONE\")"
   ]
  },
  {
   "cell_type": "markdown",
   "metadata": {},
   "source": [
    "### BATCH1 (cleaning)"
   ]
  },
  {
   "cell_type": "code",
   "execution_count": null,
   "metadata": {},
   "outputs": [],
   "source": [
    "# Life on Mars\n",
    "screenplays[52].insert(0, \"Life On Mars\")\n",
    "screenplays[52].insert(1, \"Written by\")\n",
    "screenplays[52].insert(2, \"Matthew Graham, Tony Jordan, Ashley Pharoah\")\n",
    "# Political Animals\n",
    "del screenplays[56][:28]\n",
    "# Jon Lovitz\n",
    "del screenplays[48][0]"
   ]
  },
  {
   "cell_type": "code",
   "execution_count": null,
   "metadata": {},
   "outputs": [],
   "source": [
    "# Surviving Jack\n",
    "del screenplays[70][:2]\n",
    "# Humans\n",
    "del screenplays[43][:52]\n",
    "# Grace and Frankie\n",
    "del screenplays[37][:69]\n",
    "# fear the walking dead\n",
    "del screenplays[29][:1]\n",
    "# doctor who\n",
    "del screenplays[15][:1]\n",
    "del screenplays[15][:2]\n",
    "screenplays[15].insert(0, 'Doctor Who')\n",
    "# last man on earth\n",
    "del screenplays[50][:22]\n",
    "# life on mars\n",
    "del screenplays[52][0]\n",
    "# Lost\n",
    "screenplays[55].insert(0, 'Lost')\n",
    "del screenplays[60][:11]\n",
    "del screenplays[62][:2]\n",
    "del screenplays[66][:28]"
   ]
  },
  {
   "cell_type": "code",
   "execution_count": null,
   "metadata": {},
   "outputs": [],
   "source": [
    "del screenplays[69][:9]\n",
    "del screenplays[76][0]\n",
    "screenplays[76].insert(0, \"Smallville\")\n",
    "del screenplays[79][:24]\n",
    "del screenplays[81][:2]\n",
    "del screenplays[84][:27]\n",
    "# The Defenders\n",
    "screenplays[12].insert(4,\"TEASER\")\n",
    "del screenplays[12][5]"
   ]
  },
  {
   "cell_type": "markdown",
   "metadata": {},
   "source": [
    "### BATCH2 (cleaning)"
   ]
  },
  {
   "cell_type": "code",
   "execution_count": null,
   "metadata": {},
   "outputs": [],
   "source": [
    "del screenplays[151][:6]\n",
    "del screenplays[153][0]\n",
    "screenplays[153].insert(0, \"UP ALL NIGHT\")\n",
    "del screenplays[154][0]\n",
    "screenplays[154].insert(0, \"WE ARE MEN\")\n",
    "del screenplays[156][0]\n",
    "screenplays[156].insert(0, \"WHITE FAMOUS\")\n",
    "screenplays[42].insert(0, \"KINGDOM\")\n",
    "del screenplays[42][1:30]\n",
    "del screenplays[62][:27]\n",
    "del screenplays[68][:16]\n",
    "del screenplays[69][0]\n",
    "del screenplays[71][:6]\n",
    "screenplays[71].insert(0, \"ORVILLE\")\n",
    "del screenplays[75][:12]\n",
    "del screenplays[76][0]\n",
    "del screenplays[81][:3]\n",
    "del screenplays[82][0]\n",
    "del screenplays[87][0]\n",
    "screenplays[86].insert(0, \"SCANDAL\")\n",
    "del screenplays[87][0]\n",
    "screenplays[87].insert(0, \"SCHOOLED\")\n",
    "del screenplays[88][0]\n",
    "screenplays[88].insert(0, \"SEAN SAVES THE WORLD\")\n",
    "del screenplays[89][0:1]\n",
    "screenplays[89].insert(0, \"SELFIE\")\n",
    "screenplays[90].insert(0, \"SHAMELESS\")\n",
    "del screenplays[91][0]\n",
    "screenplays[91].insert(0, \"SHIT MY DAD SAYS\")\n",
    "del screenplays[93][:21]\n",
    "del screenplays[93][:1]\n",
    "screenplays[93].insert(0, \"SLEEPY HOLLOW\")\n",
    "del screenplays[94][0]\n",
    "screenplays[94].insert(0, \"SNEAKY PETE\")\n",
    "del screenplays[97][0]\n",
    "screenplays[97].insert(0, \"SORRY FOR YOUR LOSS\")\n",
    "del screenplays[98][0]\n",
    "screenplays[98].insert(0, \"SOUTHLAND\")\n",
    "del screenplays[99][0]\n",
    "screenplays[99].insert(0, \"STAN AGAINST EVIL\")\n",
    "del screenplays[100][0]\n",
    "screenplays[100].insert(0, \"STAR CROSSED\")\n",
    "del screenplays[101][0]\n",
    "screenplays[101].insert(0, \"SUITS\")\n",
    "del screenplays[108][:10]\n",
    "del screenplays[110][0]\n",
    "screenplays[110].insert(0, \"THE CURE\")\n",
    "del screenplays[111][0]\n",
    "screenplays[111].insert(0, \"THE EXPANSE\")\n",
    "del screenplays[112][0]\n",
    "screenplays[112].insert(0, \"THE FOLLOWING\")\n",
    "del screenplays[102][:1]\n",
    "screenplays[102].insert(0, \"TERRIERS\")\n",
    "del screenplays[114][0]\n",
    "screenplays[114].insert(0,\"THE GLADES\")\n",
    "del screenplays[119][:1]\n",
    "screenplays[119].insert(0, \"THE REAL OG\")\n",
    "del screenplays[120][0]\n",
    "screenplays[120].insert(0, \"THE LIBRARIANS\")\n",
    "del screenplays[125][0]\n",
    "screenplays[125].insert(0, \"THE MICK\")\n",
    "del screenplays[124][0]\n",
    "screenplays[124].insert(0, \"THE MARVELOUS MS MAISEL\")\n",
    "screenplays[126].insert(0, \"THE MIDDLE\")\n",
    "del screenplays[140][:1]\n",
    "del screenplays[141][:24]\n",
    "del screenplays[142][:26]\n",
    "del screenplays[144][0]\n",
    "screenplays[144].insert(0, \"THIS IS US\")\n",
    "screenplays[147].insert(0, \"TURN\")\n",
    "del screenplays[148][0]\n",
    "screenplays[148].insert(0, \"TUT\")\n",
    "del screenplays[149][0]\n",
    "screenplays[149].insert(0, \"TUT\")\n",
    "del screenplays[150][0]\n",
    "screenplays[150].insert(0, \"UNCLE BUCK\")"
   ]
  },
  {
   "cell_type": "code",
   "execution_count": null,
   "metadata": {},
   "outputs": [],
   "source": [
    "# CHARMED\n",
    "del screenplays[2][2]\n",
    "#CHEERLEADER DEATH SQUAD\n",
    "del screenplays[3][:8]\n",
    "# YOUNG SHELDON\n",
    "del screenplays[161][0]\n",
    "screenplays[161].insert(0,'YOUNG SHELDON')\n",
    "# YOU, ME, AND THE APOCALYPSE\n",
    "del screenplays[160][0]\n",
    "screenplays[160].insert(0,\"YOU, ME, AND THE APOCALYPSE\")\n",
    "# CONSTANTINE\n",
    "del screenplays[5][:39]\n",
    "screenplays[5].insert(0,\"CONSTANTINE\")\n",
    "# DIETLAND\n",
    "del screenplays[11][:6]\n",
    "screenplays[11].insert(1, \"CREATED BY\")\n",
    "screenplays[11].insert(2, \"Marty Noxon\")\n",
    "# The DARLINGS\n",
    "# FEUD\n",
    "del screenplays[16][:8]\n",
    "del screenplays[22][:7]\n",
    "del screenplays[22][:2]\n",
    "screenplays[22].insert(0, \"THE GIRLFRIENDS GUIDE TO DIVORCE\")\n",
    "del screenplays[24][:16]\n",
    "screenplays[24].insert(0, \"GOLIATH\")\n",
    "screenplays[30].insert(0, \"HAPPYISH\")\n",
    "del screenplays[30][2:4]\n",
    "del screenplays[34][:13]\n",
    "screenplays[34].insert(0, \"HOT IN CLEVELAND\")\n",
    "screenplays[37].insert(0, \"IMPASTOR\")\n",
    "del screenplays[37][1:19]\n",
    "del screenplays[37][1:4]\n",
    "del screenplays[40][0]\n",
    "screenplays[44].insert(0, \"Last Man Standing\")\n",
    "screenplays[44].insert(1, \"Written by\")\n",
    "screenplays[44].insert(2, \"Jack Burditt\")\n",
    "del screenplays[44][3:44]\n",
    "screenplays[46].insert(0, \"LINE OF DUTY\")\n",
    "del screenplays[46][1:2]\n",
    "del screenplays[49][0]\n",
    "del screenplays[49][1:9]\n",
    "del screenplays[54][:1]\n",
    "screenplays[54].insert(0,\"MELISSA AND JOEY\")\n",
    "screenplays[55].insert(0,\"MERLIN\")\n",
    "del screenplays[55][1:14]\n",
    "screenplays[56].insert(0, \"MERRY HAPPY WHATEVER\")\n",
    "del screenplays[56][1]\n",
    "# screenplays[57].insert(0, \"MIKE BERBIGLIAS SECRET PUBLIC JOURNAL\")\n",
    "del screenplays[57][1:16]\n",
    "del screenplays[63][:4]\n",
    "screenplays[63].insert(0, \"MISTER SUNSHINE\")\n",
    "screenplays[64].insert(0, \"MULANEY\")\n",
    "screenplays[65].insert(0, \"NEW GIRL\")\n",
    "screenplays[69].insert(0, \"ONE BIG HAPPY\")\n",
    "del screenplays[6]\n",
    "screenplays[82].insert(0, \"RECTIFY\")\n",
    "del screenplays[87][0]\n",
    "\n",
    "del screenplays[127][0]\n",
    "screenplays[127].insert(0, \"THE MILLERS\")\n",
    "del screenplays[129][0]\n",
    "screenplays[129].insert(0, \"THE MIST\")\n",
    "del screenplays[130][0]\n",
    "screenplays[130].insert(0, \"THE MOB DOCTOR\")\n",
    "del screenplays[131][0]\n",
    "screenplays[131].insert(0, \"THE MYSTERIES OF LAURA\")\n",
    "del screenplays[132][0]\n",
    "screenplays[132].insert(0, \"THE NIGHT MANAGER\")"
   ]
  },
  {
   "cell_type": "markdown",
   "metadata": {},
   "source": [
    "### BATCH3 (cleaning)"
   ]
  },
  {
   "cell_type": "code",
   "execution_count": null,
   "metadata": {},
   "outputs": [],
   "source": [
    "screenplays[4].insert(0, \"BLOOD AND TREASURE\")\n",
    "\n",
    "# del screenplays[30][:14]\n",
    "del screenplays[13][0]\n",
    "screenplays[13].insert(0, \"DEVS\")\n",
    "del screenplays[13][1:3]\n",
    "screenplays[13].insert(1, \"Written By Alex Garland\")\n",
    "del screenplays[24][:8]\n",
    "del screenplays[26][:2]\n",
    "del screenplays[30][1:3]\n",
    "del screenplays[31][:2]\n",
    "screenplays[31].insert(0, \"NEVER HAVE I EVER\")\n",
    "del screenplays[36][:26]\n",
    "screenplays[36].insert(0, \"PRETTY LITTLE LIARS\")\n",
    "del screenplays[39][:6]\n",
    "screenplays[39].insert(0, \"PROJECT BLUE BOOK\")\n",
    "del screenplays[48][:2]\n",
    "screenplays[48].insert(0, \"THE UMBRELLA ACADEMY\")\n",
    "del screenplays[50][:12]\n",
    "screenplays[50].insert(0, \"THE VILLAGE\")\n",
    "del screenplays[53][0]\n",
    "screenplays[53].insert(0, \"UNBELIEVABLE\")\n",
    "del screenplays[55][0]\n",
    "screenplays[55].insert(0, \"FOR LIFE\")\n",
    "del screenplays[59][0]\n",
    "screenplays[59].insert(0, \"ZOEY'S EXTRAORDINARY PLAYLIST\")"
   ]
  },
  {
   "cell_type": "code",
   "execution_count": null,
   "metadata": {},
   "outputs": [],
   "source": [
    "del screenplays[59][0]\n",
    "screenplays[59].insert(0, \"ZOEY'S EXTRAORDINARY PLAYLIST\")"
   ]
  },
  {
   "cell_type": "markdown",
   "metadata": {},
   "source": [
    "### **Nominal Dict**"
   ]
  },
  {
   "cell_type": "markdown",
   "metadata": {},
   "source": [
    "**Step:** Send compiled scripts through this module to build a dictionary of specs from the cover page."
   ]
  },
  {
   "cell_type": "code",
   "execution_count": null,
   "metadata": {},
   "outputs": [],
   "source": [
    "import parser.cull_cover_page as titles"
   ]
  },
  {
   "cell_type": "code",
   "execution_count": null,
   "metadata": {},
   "outputs": [],
   "source": [
    "nominal_dicts = titles.cull_cover_page(screenplays)"
   ]
  },
  {
   "cell_type": "markdown",
   "metadata": {},
   "source": [
    "### **Counts Dict**"
   ]
  },
  {
   "cell_type": "markdown",
   "metadata": {},
   "source": [
    "**Step:** Send compiled scripts through this module to attach the screenplay body in a new dictionary."
   ]
  },
  {
   "cell_type": "code",
   "execution_count": null,
   "metadata": {},
   "outputs": [],
   "source": [
    "import parser.cull_script_body as scripts"
   ]
  },
  {
   "cell_type": "code",
   "execution_count": null,
   "metadata": {},
   "outputs": [],
   "source": [
    "counts_dicts = scripts.run_counts(screenplays)"
   ]
  },
  {
   "cell_type": "markdown",
   "metadata": {},
   "source": [
    "### ***Combine_Dicts***"
   ]
  },
  {
   "cell_type": "markdown",
   "metadata": {},
   "source": [
    "**Step:** Concatenate those two dictionaries together using the function below. This will results in a list of dictionaries."
   ]
  },
  {
   "cell_type": "code",
   "execution_count": null,
   "metadata": {},
   "outputs": [],
   "source": [
    "def combine_dicts (dict1, dict2):\n",
    "    pilots = []\n",
    "    for index, line in enumerate(dict1):\n",
    "#     for index, line in enumerate(dict2):\n",
    "        new = {**dict1[index], **dict2[index]}\n",
    "#         print (index) #check\n",
    "        pilots.append(new)\n",
    "    return pilots\n",
    "\n",
    "screenplays = combine_dicts(nominal_dicts,counts_dicts )"
   ]
  },
  {
   "cell_type": "code",
   "execution_count": null,
   "metadata": {},
   "outputs": [],
   "source": [
    "len(screenplays), type(screenplays), type(screenplays[1])"
   ]
  },
  {
   "cell_type": "markdown",
   "metadata": {},
   "source": [
    "# Pickling"
   ]
  },
  {
   "cell_type": "markdown",
   "metadata": {},
   "source": [
    "Once the scripts are cleaned, feel free to pickle those lists of dictionaries so you don't have to do it again."
   ]
  },
  {
   "cell_type": "code",
   "execution_count": null,
   "metadata": {
    "collapsed": true
   },
   "outputs": [],
   "source": [
    "with open('BATCH1.pickle', 'wb') as write_file:\n",
    "    pickle.dump(screenplays, write_file)"
   ]
  },
  {
   "cell_type": "code",
   "execution_count": null,
   "metadata": {},
   "outputs": [],
   "source": [
    "with open('BATCH2.pickle', 'wb') as write_file:\n",
    "    pickle.dump(screenplays, write_file)"
   ]
  },
  {
   "cell_type": "code",
   "execution_count": null,
   "metadata": {},
   "outputs": [],
   "source": [
    "with open('BATCH3.pickle', 'wb') as write_file:\n",
    "    pickle.dump(screenplays, write_file)"
   ]
  },
  {
   "cell_type": "markdown",
   "metadata": {},
   "source": [
    "# Pickle Open"
   ]
  },
  {
   "cell_type": "markdown",
   "metadata": {},
   "source": [
    "Now we can re-load those pickles when we have all the scripts that we want and concatenate them into one large dictionary."
   ]
  },
  {
   "cell_type": "code",
   "execution_count": 4,
   "metadata": {},
   "outputs": [],
   "source": [
    "# BETA\n",
    "with open('BETA.pickle', 'rb') as read_file:\n",
    "    MVP = pickle.load(read_file)\n",
    "\n",
    "# # MVP\n",
    "with open('BATCH1.pickle', 'rb') as read_file:\n",
    "    BATCH1 = pickle.load(read_file)\n",
    "\n",
    "# # CORE\n",
    "with open('BATCH2.pickle', 'rb') as read_file:\n",
    "    BATCH2 = pickle.load(read_file)\n",
    "    \n",
    "# # BATCH3\n",
    "with open('BATCH3.pickle', 'rb') as read_file:\n",
    "    BATCH3 = pickle.load(read_file)\n",
    "\n",
    "# # ListB\n",
    "# with open('ListB.pickle', 'rb') as read_file:\n",
    "#     LISTB = pickle.load(read_file)\n",
    "\n",
    "MVP.extend(BATCH1)\n",
    "MVP.extend(BATCH2)\n",
    "MVP.extend(BATCH3)"
   ]
  },
  {
   "cell_type": "markdown",
   "metadata": {},
   "source": [
    "At this point, we have our dictionary of scripts. \n",
    "* Check the length to know the total number.\n",
    "* The more scripts we have in the system, the better the end product will be."
   ]
  },
  {
   "cell_type": "code",
   "execution_count": 5,
   "metadata": {},
   "outputs": [
    {
     "name": "stdout",
     "output_type": "stream",
     "text": [
      "We have 327 scripts. Good enough!\n"
     ]
    }
   ],
   "source": [
    "print(\"We have \" + str(len(MVP))+ \" scripts. Good enough!\")"
   ]
  },
  {
   "cell_type": "markdown",
   "metadata": {},
   "source": [
    "# ***END COMPILING!***"
   ]
  }
 ],
 "metadata": {
  "kernelspec": {
   "display_name": "Python 3",
   "language": "python",
   "name": "python3"
  },
  "language_info": {
   "codemirror_mode": {
    "name": "ipython",
    "version": 3
   },
   "file_extension": ".py",
   "mimetype": "text/x-python",
   "name": "python",
   "nbconvert_exporter": "python",
   "pygments_lexer": "ipython3",
   "version": "3.7.4"
  },
  "toc": {
   "base_numbering": 1,
   "nav_menu": {},
   "number_sections": true,
   "sideBar": true,
   "skip_h1_title": false,
   "title_cell": "Table of Contents",
   "title_sidebar": "Contents",
   "toc_cell": false,
   "toc_position": {
    "height": "calc(100% - 180px)",
    "left": "10px",
    "top": "150px",
    "width": "255.81px"
   },
   "toc_section_display": true,
   "toc_window_display": true
  }
 },
 "nbformat": 4,
 "nbformat_minor": 2
}
